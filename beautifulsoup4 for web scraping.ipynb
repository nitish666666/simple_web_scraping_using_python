{
 "cells": [
  {
   "cell_type": "code",
   "execution_count": 1,
   "metadata": {},
   "outputs": [
    {
     "name": "stdout",
     "output_type": "stream",
     "text": [
      "Requirement already satisfied: beautifulsoup4 in c:\\users\\nitis\\anaconda3\\lib\\site-packages (4.9.3)\n",
      "Requirement already satisfied: soupsieve>1.2; python_version >= \"3.0\" in c:\\users\\nitis\\anaconda3\\lib\\site-packages (from beautifulsoup4) (2.0.1)\n",
      "Note: you may need to restart the kernel to use updated packages.\n"
     ]
    }
   ],
   "source": [
    "pip install beautifulsoup4\n"
   ]
  },
  {
   "cell_type": "code",
   "execution_count": 2,
   "metadata": {},
   "outputs": [
    {
     "name": "stdout",
     "output_type": "stream",
     "text": [
      "Requirement already satisfied: requests in c:\\users\\nitis\\anaconda3\\lib\\site-packages (2.24.0)\n",
      "Requirement already satisfied: certifi>=2017.4.17 in c:\\users\\nitis\\anaconda3\\lib\\site-packages (from requests) (2020.6.20)\n",
      "Requirement already satisfied: idna<3,>=2.5 in c:\\users\\nitis\\anaconda3\\lib\\site-packages (from requests) (2.10)\n",
      "Requirement already satisfied: chardet<4,>=3.0.2 in c:\\users\\nitis\\anaconda3\\lib\\site-packages (from requests) (3.0.4)\n",
      "Requirement already satisfied: urllib3!=1.25.0,!=1.25.1,<1.26,>=1.21.1 in c:\\users\\nitis\\anaconda3\\lib\\site-packages (from requests) (1.25.11)\n",
      "Note: you may need to restart the kernel to use updated packages.\n"
     ]
    }
   ],
   "source": [
    "pip install requests"
   ]
  },
  {
   "cell_type": "code",
   "execution_count": 55,
   "metadata": {},
   "outputs": [
    {
     "name": "stdout",
     "output_type": "stream",
     "text": [
      "put some skill that you are familiar with\n",
      ">python\n",
      "Filtering out: python\n",
      "waiting time 1 min...\n"
     ]
    }
   ],
   "source": [
    "from bs4 import BeautifulSoup\n",
    "import requests\n",
    "import time\n",
    "print('put some skill that you are familiar with')\n",
    "familiar_skill = input('>')\n",
    "print(f'Filtering out: {familiar_skill}')\n",
    "\n",
    "def find_jobss():\n",
    "    html_text = requests.get('https://www.timesjobs.com/candidate/job-search.html?searchType=personalizedSearch&from=submit&txtKeywords=python&txtLocation=').text\n",
    "    soup =BeautifulSoup(html_text,'lxml')\n",
    "    jobs =soup.find_all('li',class_='clearfix job-bx wht-shd-bx')\n",
    "    for index,job in enumerate(jobs):\n",
    "        published_date = job.find('span',class_='sim-posted').text\n",
    "\n",
    "        if 'few' in published_date:\n",
    "            company_name =job.find('h3',class_='joblist-comp-name').text.replace(' ','')\n",
    "            skills = job.find('span',class_='srp-skills').text.replace(' ','')\n",
    "            more_info = job.header.h2.a['href']\n",
    "            if familiar_skill in skills:\n",
    "                with open(f'wedscrap_file/{index}.txt','w') as ff:                                         \n",
    "                     ff.write(f\"company name: {company_name.strip()}\\n\")\n",
    "                     ff.write(f\"Req Skills: {skills.strip()} \\n\")\n",
    "                     ff.write(f\"more info: {more_info}\")\n",
    "\n",
    "if __name__ == '__main__':\n",
    "    while True:\n",
    "        find_jobss()\n",
    "        time_waite = 1\n",
    "        print(f'waiting time {time_waite} min...')\n",
    "        time.sleep(time_waite * 60)\n",
    "        break\n",
    "        "
   ]
  },
  {
   "cell_type": "code",
   "execution_count": null,
   "metadata": {},
   "outputs": [],
   "source": []
  }
 ],
 "metadata": {
  "kernelspec": {
   "display_name": "Python 3",
   "language": "python",
   "name": "python3"
  },
  "language_info": {
   "codemirror_mode": {
    "name": "ipython",
    "version": 3
   },
   "file_extension": ".py",
   "mimetype": "text/x-python",
   "name": "python",
   "nbconvert_exporter": "python",
   "pygments_lexer": "ipython3",
   "version": "3.8.5"
  }
 },
 "nbformat": 4,
 "nbformat_minor": 4
}
